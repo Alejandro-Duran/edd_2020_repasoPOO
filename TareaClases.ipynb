{
  "nbformat": 4,
  "nbformat_minor": 0,
  "metadata": {
    "colab": {
      "name": "TareaClases.ipynb",
      "provenance": [],
      "authorship_tag": "ABX9TyMRw+nIH/5h5k9nXNkyzDKu",
      "include_colab_link": true
    },
    "kernelspec": {
      "name": "python3",
      "display_name": "Python 3"
    }
  },
  "cells": [
    {
      "cell_type": "markdown",
      "metadata": {
        "id": "view-in-github",
        "colab_type": "text"
      },
      "source": [
        "<a href=\"https://colab.research.google.com/github/Alejandro-Duran/edd_2020_repasoPOO/blob/main/TareaClases.ipynb\" target=\"_parent\"><img src=\"https://colab.research.google.com/assets/colab-badge.svg\" alt=\"Open In Colab\"/></a>"
      ]
    },
    {
      "cell_type": "markdown",
      "metadata": {
        "id": "-tRYXZWFN7I4"
      },
      "source": [
        "#Tarea clases\n"
      ]
    },
    {
      "cell_type": "markdown",
      "metadata": {
        "id": "P-90Z41yQk9t"
      },
      "source": [
        "Clase Persona"
      ]
    },
    {
      "cell_type": "code",
      "metadata": {
        "id": "z-KIR7aYNto4"
      },
      "source": [
        "class Persona():\n",
        "  def __init__(self, nombre, edad, estatura):\n",
        "    self.__nombre = nombre\n",
        "    self.__edad = edad\n",
        "    self.estatura = estatura\n",
        "\n",
        "  def dormir (self):\n",
        "    print (f\"{self.__nombre} se encuentra durmiendo ahora mismo.\\n\")\n",
        "  \n",
        "  def comer (self):\n",
        "    print(f\"{self.__nombre} esta comiendo su alimento favorito.\\n\")"
      ],
      "execution_count": 7,
      "outputs": []
    },
    {
      "cell_type": "code",
      "metadata": {
        "id": "dKfq4gyQPc91"
      },
      "source": [
        "persona1=Persona(\"Alejandro\", 20, 1.65)\n",
        "persona1.dormir()\n",
        "persona1.comer()"
      ],
      "execution_count": null,
      "outputs": []
    },
    {
      "cell_type": "markdown",
      "metadata": {
        "id": "Q8ENceMNQoBC"
      },
      "source": [
        "Clase Celular"
      ]
    },
    {
      "cell_type": "code",
      "metadata": {
        "id": "z59IjuHaQsYa"
      },
      "source": [
        "class Celular ():\n",
        "  def __init__(self, marca, modelo, capacidad_memoria):\n",
        "    self.__marca=marca\n",
        "    self.__modelo=modelo\n",
        "    self.__capacidad = capacidad_memoria\n",
        "\n",
        "  def llamar (self):\n",
        "    print(f\"Tu celular {self.__marca} esta realizando la llamada deseada.\\n\")\n",
        "\n",
        "  def ponerAlarma (self):\n",
        "    print(f\"Tu celular {self.__marca} ha activado una alarma para despertarte el dia de mañana.\\n\")"
      ],
      "execution_count": 11,
      "outputs": []
    },
    {
      "cell_type": "code",
      "metadata": {
        "id": "T1eR_DC5RvNF",
        "outputId": "4c92aa34-e383-4e9a-a326-772a775a0766",
        "colab": {
          "base_uri": "https://localhost:8080/",
          "height": 85
        }
      },
      "source": [
        "cel = Celular(\"ZTE\", \"Blade V10 Vita\", \"16 GB\")\n",
        "cel.llamar()\n",
        "cel.ponerAlarma()"
      ],
      "execution_count": 12,
      "outputs": [
        {
          "output_type": "stream",
          "text": [
            "Tu celular ZTE esta realizando la llamada deseada.\n",
            "\n",
            "Tu celular ZTE ha activado una alarma para despertarte el dia de mañana.\n",
            "\n"
          ],
          "name": "stdout"
        }
      ]
    }
  ]
}